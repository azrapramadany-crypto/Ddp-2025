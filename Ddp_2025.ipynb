{
  "nbformat": 4,
  "nbformat_minor": 0,
  "metadata": {
    "colab": {
      "provenance": [],
      "authorship_tag": "ABX9TyPhbrDjNiY6qrORK63ghwLw",
      "include_colab_link": true
    },
    "kernelspec": {
      "name": "python3",
      "display_name": "Python 3"
    },
    "language_info": {
      "name": "python"
    }
  },
  "cells": [
    {
      "cell_type": "markdown",
      "metadata": {
        "id": "view-in-github",
        "colab_type": "text"
      },
      "source": [
        "<a href=\"https://colab.research.google.com/github/azrapramadany-crypto/Ddp-2025/blob/main/Ddp_2025.ipynb\" target=\"_parent\"><img src=\"https://colab.research.google.com/assets/colab-badge.svg\" alt=\"Open In Colab\"/></a>"
      ]
    },
    {
      "cell_type": "code",
      "execution_count": 42,
      "metadata": {
        "colab": {
          "base_uri": "https://localhost:8080/",
          "height": 352
        },
        "id": "anpq0FH-4sxv",
        "outputId": "b9b37612-b073-4ba1-86fa-618e94264ee7"
      },
      "outputs": [
        {
          "output_type": "stream",
          "name": "stdout",
          "text": [
            "['Beat Ember', 'motor', 200, 'Hitam', 2]\n",
            "['Beat Ember', 'motor', 200, 'Hitam', 2, 5000, 'metic']\n"
          ]
        },
        {
          "output_type": "error",
          "ename": "NameError",
          "evalue": "name 'insert' is not defined",
          "traceback": [
            "\u001b[0;31m---------------------------------------------------------------------------\u001b[0m",
            "\u001b[0;31mNameError\u001b[0m                                 Traceback (most recent call last)",
            "\u001b[0;32m/tmp/ipython-input-2310260158.py\u001b[0m in \u001b[0;36m<cell line: 0>\u001b[0;34m()\u001b[0m\n\u001b[1;32m     19\u001b[0m \u001b[0;34m\u001b[0m\u001b[0m\n\u001b[1;32m     20\u001b[0m \u001b[0mmerk_Kendaraan\u001b[0m\u001b[0;34m=\u001b[0m\u001b[0;34m\"Honda\"\u001b[0m\u001b[0;34m\u001b[0m\u001b[0;34m\u001b[0m\u001b[0m\n\u001b[0;32m---> 21\u001b[0;31m \u001b[0mdata_Kendaraan\u001b[0m\u001b[0;34m,\u001b[0m\u001b[0minsert\u001b[0m\u001b[0;34m(\u001b[0m\u001b[0;36m2\u001b[0m\u001b[0;34m,\u001b[0m\u001b[0mmerkKendaraan\u001b[0m\u001b[0;34m)\u001b[0m\u001b[0;34m\u001b[0m\u001b[0;34m\u001b[0m\u001b[0m\n\u001b[0m\u001b[1;32m     22\u001b[0m \u001b[0mprint\u001b[0m\u001b[0;34m(\u001b[0m\u001b[0mdata_kendaraan\u001b[0m\u001b[0;34m)\u001b[0m\u001b[0;34m\u001b[0m\u001b[0;34m\u001b[0m\u001b[0m\n",
            "\u001b[0;31mNameError\u001b[0m: name 'insert' is not defined"
          ]
        }
      ],
      "source": [
        "namaKendaraan = \"Beat Ember\"\n",
        "jenisKendaraan = \"motor\"\n",
        "ccKendaraan =200\n",
        "warnaKendaraan = \"Hitam\"\n",
        "rodaKendaraan = 2\n",
        "\n",
        "data_Kendaraan=[\n",
        "  namaKendaraan,jenisKendaraan,ccKendaraan,WarnaKendaraan,rodaKendaraan\n",
        "]\n",
        "print(data_Kendaraan)\n",
        "\n",
        "hargaKendaraan= 5000\n",
        "tipeKendaraan= \"metic\"\n",
        "data_Kendaraan.append(hargaKendaraan)\n",
        "data_Kendaraan.append(tipeKendaraan)\n",
        "\n",
        "\n",
        "print(data_Kendaraan)\n",
        "\n",
        "merk_Kendaraan=\"Honda\"\n",
        "data_Kendaraan,insert(2,merkKendaraan)\n",
        "print(data_kendaraan)"
      ]
    },
    {
      "cell_type": "code",
      "source": [
        "pilihan = input(\"\"\"\n",
        "silahkan pilih menu yang diinginkan\n",
        "===================================\n",
        "1.Luas Persegi\n",
        "2.Luas Lingkaran\n",
        "3.Luas segitiga\n",
        "===================================\n",
        "Kirimkan hanya angka saja,\n",
        "Jawaban = \"\"\")\n",
        "\n",
        "\n",
        "match pilihan:\n",
        "\n",
        " case \"1\":\n",
        "    print(\"anda memilih Luas persegi silahkan isi data di bawah ini \")\n",
        "    sisi=int(input(\"sisi = \"))\n",
        "    Luas =sisi*sisi\n",
        "    #Luas persegi\n",
        "    print(f\"Luas persegi dengan sisi{sisi} adalah {Luas}\")\n",
        " case \"2\":\n",
        "    print(\"anda memilih luas lingkaran silahkan isi data dibawah\")\n",
        "    jarijari=int(input(\"jarijari= \"))\n",
        "    luas=3.14 * jarijari**2\n",
        "    print(f\"Luas Lingkaran dengan jari{jari} adalah {Luas}\")\n",
        " case \"3\":\n",
        "     print(\"anda memilih luas lingkaran silahkan isi data dibawah\")\n",
        "     alas=int(input(\"alas= \"))\n",
        "     tinggi=int(input(\"tinggi= \"))\n",
        "     luas=(alas * tinggi)/2\n",
        "     print(f\"luas lingkaran dengan alas {alas} dan tinggi {tinggi} adalah {luas}\")\n",
        "     #luas segitiga\n",
        " case _:\n",
        "  print(\"ya nda tau kok tanya saya \")"
      ],
      "metadata": {
        "colab": {
          "base_uri": "https://localhost:8080/"
        },
        "id": "uCQU0NAh90Rg",
        "outputId": "0199b4c7-81a1-4110-f5b4-59b5d0738359"
      },
      "execution_count": 38,
      "outputs": [
        {
          "output_type": "stream",
          "name": "stdout",
          "text": [
            "\n",
            "silahkan pilih menu yang diinginkan\n",
            "===================================\n",
            "1.Luas Persegi\n",
            "2.Luas Lingkaran\n",
            "3.Luas segitiga\n",
            "===================================\n",
            "Kirimkan hanya angka saja,\n",
            "Jawaban = 5\n",
            "ya nda tau kok tanya saya \n"
          ]
        }
      ]
    }
  ]
}