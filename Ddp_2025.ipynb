{
  "nbformat": 4,
  "nbformat_minor": 0,
  "metadata": {
    "colab": {
      "provenance": [],
      "authorship_tag": "ABX9TyNtZR8CffRDpHDHjes6pczC",
      "include_colab_link": true
    },
    "kernelspec": {
      "name": "python3",
      "display_name": "Python 3"
    },
    "language_info": {
      "name": "python"
    }
  },
  "cells": [
    {
      "cell_type": "markdown",
      "metadata": {
        "id": "view-in-github",
        "colab_type": "text"
      },
      "source": [
        "<a href=\"https://colab.research.google.com/github/azrapramadany-crypto/Ddp-2025/blob/main/Ddp_2025.ipynb\" target=\"_parent\"><img src=\"https://colab.research.google.com/assets/colab-badge.svg\" alt=\"Open In Colab\"/></a>"
      ]
    },
    {
      "cell_type": "code",
      "execution_count": 16,
      "metadata": {
        "colab": {
          "base_uri": "https://localhost:8080/",
          "height": 352
        },
        "id": "anpq0FH-4sxv",
        "outputId": "53521dbc-3a7c-4091-d592-736d5b4f5b64"
      },
      "outputs": [
        {
          "output_type": "stream",
          "name": "stdout",
          "text": [
            "['Beat Ember', 'motor', 200, 'Hitam', 2]\n"
          ]
        },
        {
          "output_type": "error",
          "ename": "TypeError",
          "evalue": "list.append() takes exactly one argument (2 given)",
          "traceback": [
            "\u001b[0;31m---------------------------------------------------------------------------\u001b[0m",
            "\u001b[0;31mTypeError\u001b[0m                                 Traceback (most recent call last)",
            "\u001b[0;32m/tmp/ipython-input-969913654.py\u001b[0m in \u001b[0;36m<cell line: 0>\u001b[0;34m()\u001b[0m\n\u001b[1;32m     13\u001b[0m \u001b[0mtipeKendaraan\u001b[0m\u001b[0;34m=\u001b[0m \u001b[0;34m\"metic\"\u001b[0m\u001b[0;34m\u001b[0m\u001b[0;34m\u001b[0m\u001b[0m\n\u001b[1;32m     14\u001b[0m \u001b[0;34m\u001b[0m\u001b[0m\n\u001b[0;32m---> 15\u001b[0;31m \u001b[0mdata_Kendaraan\u001b[0m\u001b[0;34m.\u001b[0m\u001b[0mappend\u001b[0m\u001b[0;34m(\u001b[0m\u001b[0mhargaKendaraan\u001b[0m\u001b[0;34m,\u001b[0m\u001b[0mtipeKendaraan\u001b[0m\u001b[0;34m)\u001b[0m\u001b[0;34m\u001b[0m\u001b[0;34m\u001b[0m\u001b[0m\n\u001b[0m\u001b[1;32m     16\u001b[0m \u001b[0mprint\u001b[0m\u001b[0;34m(\u001b[0m\u001b[0mdata_kendaraan\u001b[0m\u001b[0;34m)\u001b[0m\u001b[0;34m\u001b[0m\u001b[0;34m\u001b[0m\u001b[0m\n\u001b[1;32m     17\u001b[0m \u001b[0;34m\u001b[0m\u001b[0m\n",
            "\u001b[0;31mTypeError\u001b[0m: list.append() takes exactly one argument (2 given)"
          ]
        }
      ],
      "source": [
        "namaKendaraan = \"Beat Ember\"\n",
        "jenisKendaraan = \"motor\"\n",
        "ccKendaraan =200\n",
        "warnaKendaraan = \"Hitam\"\n",
        "rodaKendaraan = 2\n",
        "\n",
        "data_Kendaraan=[\n",
        "  namaKendaraan,jenisKendaraan,ccKendaraan,WarnaKendaraan,rodaKendaraan\n",
        "]\n",
        "print(data_Kendaraan)\n",
        "\n",
        "hargaKendaraan= 5000\n",
        "tipeKendaraan= \"metic\"\n",
        "dataKendaraan.append(hargaKendaraan)\n",
        "dataKendaraan.append(tipeKendaraan)\n",
        "\n",
        "\n",
        "print(data_kendaraan)\n",
        "\n",
        "merkKendaraan=\"Honda\"\n",
        "data_Kendaraan,insert(2,merkKendaraan)\n",
        "print(data_kendaraan)"
      ]
    },
    {
      "cell_type": "code",
      "source": [
        "pilihan = input(\"\"\"\n",
        "silahkan pilih menu yang diinginkan\n",
        "===================================\n",
        "1.Luas Persegi\n",
        "2.Luas Lingkaran\n",
        "3.Luas segitiga\n",
        "===================================\n",
        "Kirimkan hanya angka saja,\n",
        "Jawaban = \"\"\")\n",
        "\n",
        "\n",
        "match pilihan:\n",
        " case \"1\":\n",
        "    print(\"anda memilih Luas persegi silahkan isi data di bawah ini \")\n",
        "    sisi=int(input(\"sisi = \"))\n",
        "    Luas =sisi*sisi\n",
        "    #Luas persegi\n",
        "print(f\"Luas persegi dengan sisi{sisi} adalah {Luas}\")\n",
        "\n",
        "    #Luas persegi\n",
        "case \"2\":\n",
        "    #Luas lingkaran\n",
        "    #phi * jarijari**2\n",
        "    print(\"anda memilih luas segitiga silahkan isi data dibawah\")\n",
        "    print(f\"Luas Lingkaran\n",
        "case \"3\":\n",
        "    # Luas segitiga\n",
        "    # (alas * tinggi)/2\n",
        "    print(\"\")\n",
        "case _:\n",
        "  print(\"ya nda tau kok tanya saya \")"
      ],
      "metadata": {
        "colab": {
          "base_uri": "https://localhost:8080/",
          "height": 124
        },
        "id": "uCQU0NAh90Rg",
        "outputId": "29ad9405-4b3d-416d-f672-668e529105af"
      },
      "execution_count": 24,
      "outputs": [
        {
          "output_type": "error",
          "ename": "SyntaxError",
          "evalue": "invalid syntax (ipython-input-3338303335.py, line 21)",
          "traceback": [
            "\u001b[0;36m  File \u001b[0;32m\"/tmp/ipython-input-3338303335.py\"\u001b[0;36m, line \u001b[0;32m21\u001b[0m\n\u001b[0;31m    case \"2\":\u001b[0m\n\u001b[0m         ^\u001b[0m\n\u001b[0;31mSyntaxError\u001b[0m\u001b[0;31m:\u001b[0m invalid syntax\n"
          ]
        }
      ]
    }
  ]
}