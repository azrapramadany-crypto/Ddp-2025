{
  "nbformat": 4,
  "nbformat_minor": 0,
  "metadata": {
    "colab": {
      "provenance": [],
      "authorship_tag": "ABX9TyNywk2j55rdiC0J0zkDkgmn",
      "include_colab_link": true
    },
    "kernelspec": {
      "name": "python3",
      "display_name": "Python 3"
    },
    "language_info": {
      "name": "python"
    }
  },
  "cells": [
    {
      "cell_type": "markdown",
      "metadata": {
        "id": "view-in-github",
        "colab_type": "text"
      },
      "source": [
        "<a href=\"https://colab.research.google.com/github/azrapramadany-crypto/Ddp-2025/blob/main/Ddp_2025.ipynb\" target=\"_parent\"><img src=\"https://colab.research.google.com/assets/colab-badge.svg\" alt=\"Open In Colab\"/></a>"
      ]
    },
    {
      "cell_type": "code",
      "source": [
        "pilihan = input(\"\"\"\n",
        "silahkan pilih menu yang diinginkan\n",
        "===================================\n",
        "1.Luas Persegi\n",
        "2.Luas Lingkaran\n",
        "3.Luas segitiga\n",
        "===================================\n",
        "Kirimkan hanya angka saja,\n",
        "Jawaban = \"\"\")\n",
        "\n",
        "\n",
        "match pilihan:\n",
        "\n",
        " case \"1\":\n",
        "    print(\"anda memilih Luas persegi silahkan isi data di bawah ini \")\n",
        "    sisi=int(input(\"sisi = \"))\n",
        "    Luas =sisi*sisi\n",
        "    #Luas persegi\n",
        "    print(f\"Luas persegi dengan sisi{sisi} adalah {Luas}\")\n",
        " case \"2\":\n",
        "    print(\"anda memilih luas lingkaran silahkan isi data dibawah\")\n",
        "    jarijari=int(input(\"jarijari= \"))\n",
        "    luas=3.14 * jarijari**2\n",
        "    print(f\"Luas Lingkaran dengan jari{jari} adalah {Luas}\")\n",
        " case \"3\":\n",
        "     print(\"anda memilih luas lingkaran silahkan isi data dibawah\")\n",
        "     alas=int(input(\"alas= \"))\n",
        "     tinggi=int(input(\"tinggi= \"))\n",
        "     luas=(alas * tinggi)/2\n",
        "     print(f\"luas lingkaran dengan alas {alas} dan tinggi {tinggi} adalah {luas}\")\n",
        "     #luas segitiga\n",
        " case _:\n",
        "  print(\"ya nda tau kok tanya saya \")"
      ],
      "metadata": {
        "colab": {
          "base_uri": "https://localhost:8080/"
        },
        "id": "uCQU0NAh90Rg",
        "outputId": "0199b4c7-81a1-4110-f5b4-59b5d0738359"
      },
      "execution_count": 38,
      "outputs": [
        {
          "output_type": "stream",
          "name": "stdout",
          "text": [
            "\n",
            "silahkan pilih menu yang diinginkan\n",
            "===================================\n",
            "1.Luas Persegi\n",
            "2.Luas Lingkaran\n",
            "3.Luas segitiga\n",
            "===================================\n",
            "Kirimkan hanya angka saja,\n",
            "Jawaban = 5\n",
            "ya nda tau kok tanya saya \n"
          ]
        }
      ]
    },
    {
      "cell_type": "code",
      "source": [
        "namaKendaraan = \"beat ember\"\n",
        "jenisKendaraan = \"motor\"\n",
        "ccKendaraan = 200\n",
        "warnaKendaraan = \"hitam\"\n",
        "rodaKendaraan = 2\n",
        "\n",
        "dataKendaraan = [\n",
        "  namaKendaraan, jenisKendaraan, ccKendaraan, warnaKendaraan,\n",
        "  rodaKendaraan\n",
        "]\n",
        "\n",
        "print(dataKendaraan)\n",
        "\n",
        "hargaKendaraan = 5000\n",
        "tipeKendaraan = \"metic\"\n",
        "\n",
        "dataKendaraan.append(hargaKendaraan)\n",
        "dataKendaraan.append(tipeKendaraan)\n",
        "print(dataKendaraan)\n",
        "\n",
        "merkKendaraan = \"honda\"\n",
        "dataKendaraan.insert(2,merkKendaraan)\n",
        "print(dataKendaraan)"
      ],
      "metadata": {
        "colab": {
          "base_uri": "https://localhost:8080/"
        },
        "id": "Q2n27m6CNELm",
        "outputId": "da5dc534-297b-49b3-dcd1-144416277724"
      },
      "execution_count": 43,
      "outputs": [
        {
          "output_type": "stream",
          "name": "stdout",
          "text": [
            "['beat ember', 'motor', 200, 'hitam', 2]\n",
            "['beat ember', 'motor', 200, 'hitam', 2, 5000, 'metic']\n",
            "['beat ember', 'motor', 'honda', 200, 'hitam', 2, 5000, 'metic']\n"
          ]
        }
      ]
    }
  ]
}